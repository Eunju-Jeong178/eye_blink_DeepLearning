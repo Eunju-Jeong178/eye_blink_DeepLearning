{
 "cells": [
  {
   "cell_type": "code",
   "execution_count": 4,
   "metadata": {},
   "outputs": [],
   "source": [
    "import pandas as pd\n",
    "df = pd.read_csv(\"C:/Users/USER/eye_blink_detector-master/eye_blink_detector-master/dataset/newdata(150).csv\") #, skiprows=0\n",
    "df.columns = [\"state\", \"image\"]"
   ]
  },
  {
   "cell_type": "code",
   "execution_count": 5,
   "metadata": {},
   "outputs": [],
   "source": [
    "import csv\n",
    "\n",
    "with open(\"dataset_test.csv\", 'w', newline='') as f:\n",
    "    writer = csv.writer(f)\n",
    "    writer.writerow(['state', 'image'])"
   ]
  },
  {
   "cell_type": "code",
   "execution_count": 6,
   "metadata": {},
   "outputs": [],
   "source": [
    "import random\n",
    "\n",
    "rand = []\n",
    "i = 0\n",
    "\n",
    "for i in range(50):\n",
    "    choose = random.randint(0,149)\n",
    "    while choose in rand:\n",
    "        choose = random.randint(0,149)\n",
    "    rand.append(choose)\n",
    "    \n",
    "    df_choose_0 = df.loc[[choose], ['state']] #state\n",
    "    df_choose_1 = df.loc[[choose], ['image']] #image\n",
    "    val_list0 = df_choose_0.values.tolist()\n",
    "    val_list1 = df_choose_1.values.tolist()\n",
    "    val_list0 = str(val_list0)[3:-3]\n",
    "    val_list1 = str(val_list1)[3:-3]\n",
    "    \n",
    "    with open(\"dataset_test.csv\", 'a', newline='') as f:\n",
    "        writer= csv.writer(f)\n",
    "        writer.writerow([val_list0, val_list1])#(val_list)\n",
    "        \n",
    "    df = df.drop([choose], axis=0)\n",
    "    i = i+1"
   ]
  },
  {
   "cell_type": "code",
   "execution_count": 7,
   "metadata": {},
   "outputs": [],
   "source": [
    "with open(\"ourdataset_train.csv\", 'w', newline='') as f:\n",
    "    writer = csv.writer(f)\n",
    "    writer.writerow(['state', 'image'])"
   ]
  },
  {
   "cell_type": "code",
   "execution_count": 8,
   "metadata": {},
   "outputs": [],
   "source": [
    "df = df.reset_index(drop=True)\n",
    "num = len(df.index)\n",
    "\n",
    "for i in range(num):\n",
    "    df_choose_0 = df.loc[[i], ['state']] #state\n",
    "    df_choose_1 = df.loc[[i], ['image']] #image\n",
    "    val_list0 = df_choose_0.values.tolist()\n",
    "    val_list1 = df_choose_1.values.tolist()\n",
    "    val_list0 = str(val_list0)[3:-3]\n",
    "    val_list1 = str(val_list1)[3:-3]\n",
    "\n",
    "    with open(\"ourdataset_train.csv\", 'a', newline='') as f:\n",
    "        writer= csv.writer(f)\n",
    "        writer.writerow([val_list0, val_list1])\n",
    "        \n",
    "    i = i+1"
   ]
  },
  {
   "cell_type": "code",
   "execution_count": 9,
   "metadata": {},
   "outputs": [],
   "source": [
    "df = pd.read_csv(\"C:/Users/USER/eye_blink_detector-master/eye_blink_detector-master/dataset/dataset.csv\") #, skiprows=0\n",
    "df.columns = [\"state\", \"image\"]"
   ]
  },
  {
   "cell_type": "code",
   "execution_count": 10,
   "metadata": {},
   "outputs": [],
   "source": [
    "dfg = pd.read_csv(\"C:/Users/USER/eye_blink_detector-master/eye_blink_detector-master/dataset/final data.csv\") #, skiprows=0\n",
    "dfg.columns = [\"state\", \"image\"]"
   ]
  },
  {
   "cell_type": "code",
   "execution_count": 11,
   "metadata": {},
   "outputs": [],
   "source": [
    "rand = []\n",
    "i = 0\n",
    "\n",
    "for i in range(50):\n",
    "    choose = random.randint(0,2873)\n",
    "    while choose in rand:\n",
    "        choose = random.randint(0,2873)\n",
    "    rand.append(choose)\n",
    "    \n",
    "    df_choose_0 = df.loc[[choose], ['state']] #state\n",
    "    df_choose_1 = df.loc[[choose], ['image']] #image\n",
    "    val_list0 = df_choose_0.values.tolist()\n",
    "    val_list1 = df_choose_1.values.tolist()\n",
    "    val_list0 = str(val_list0)[3:-3]\n",
    "    val_list1 = str(val_list1)[3:-3]\n",
    "    \n",
    "    with open(\"dataset_test.csv\", 'a', newline='') as f:\n",
    "        writer= csv.writer(f)\n",
    "        writer.writerow([val_list0, val_list1])#(val_list)\n",
    "        \n",
    "    df = df.drop([choose], axis=0)\n",
    "    dfg = dfg.drop([choose], axis=0)\n",
    "    i = i+1"
   ]
  },
  {
   "cell_type": "code",
   "execution_count": 12,
   "metadata": {},
   "outputs": [],
   "source": [
    "with open(\"dataset_train.csv\", 'w', newline='') as f:\n",
    "    writer = csv.writer(f)\n",
    "    writer.writerow(['state', 'image'])"
   ]
  },
  {
   "cell_type": "code",
   "execution_count": 13,
   "metadata": {},
   "outputs": [],
   "source": [
    "with open(\"dataset_new_train.csv\", 'w', newline='') as f:\n",
    "    writer = csv.writer(f)\n",
    "    writer.writerow(['state', 'image'])"
   ]
  },
  {
   "cell_type": "code",
   "execution_count": 14,
   "metadata": {},
   "outputs": [],
   "source": [
    "df = df.reset_index(drop=True)\n",
    "num = len(df.index)\n",
    "\n",
    "for i in range(num):\n",
    "    df_choose_0 = df.loc[[i], ['state']] #state\n",
    "    df_choose_1 = df.loc[[i], ['image']] #image\n",
    "    val_list0 = df_choose_0.values.tolist()\n",
    "    val_list1 = df_choose_1.values.tolist()\n",
    "    val_list0 = str(val_list0)[3:-3]\n",
    "    val_list1 = str(val_list1)[3:-3]\n",
    "\n",
    "    with open(\"dataset_train.csv\", 'a', newline='') as f:\n",
    "        writer= csv.writer(f)\n",
    "        writer.writerow([val_list0, val_list1])\n",
    "        \n",
    "    i = i+1"
   ]
  },
  {
   "cell_type": "code",
   "execution_count": 15,
   "metadata": {},
   "outputs": [],
   "source": [
    "dfg = dfg.reset_index(drop=True)\n",
    "num = len(dfg.index)\n",
    "\n",
    "for i in range(num):\n",
    "    df_choose_0 = dfg.loc[[i], ['state']] #state\n",
    "    df_choose_1 = dfg.loc[[i], ['image']] #image\n",
    "    val_list0 = df_choose_0.values.tolist()\n",
    "    val_list1 = df_choose_1.values.tolist()\n",
    "    val_list0 = str(val_list0)[3:-3]\n",
    "    val_list1 = str(val_list1)[3:-3]\n",
    "\n",
    "    with open(\"dataset_new_train.csv\", 'a', newline='') as f:\n",
    "        writer= csv.writer(f)\n",
    "        writer.writerow([val_list0, val_list1])\n",
    "        \n",
    "    i = i+1"
   ]
  },
  {
   "cell_type": "code",
   "execution_count": null,
   "metadata": {},
   "outputs": [],
   "source": []
  },
  {
   "cell_type": "code",
   "execution_count": null,
   "metadata": {},
   "outputs": [],
   "source": []
  }
 ],
 "metadata": {
  "kernelspec": {
   "display_name": "Python 3",
   "language": "python",
   "name": "python3"
  },
  "language_info": {
   "codemirror_mode": {
    "name": "ipython",
    "version": 3
   },
   "file_extension": ".py",
   "mimetype": "text/x-python",
   "name": "python",
   "nbconvert_exporter": "python",
   "pygments_lexer": "ipython3",
   "version": "3.8.3"
  }
 },
 "nbformat": 4,
 "nbformat_minor": 5
}
